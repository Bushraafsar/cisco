{
 "cells": [
  {
   "cell_type": "markdown",
   "metadata": {},
   "source": [
    "# ASIGNMENT NO 5 "
   ]
  },
  {
   "cell_type": "markdown",
   "metadata": {},
   "source": [
    "# Sir ALI MUGHAL"
   ]
  },
  {
   "cell_type": "markdown",
   "metadata": {},
   "source": [
    "***Q:1 Write a Python function to calculate the factorial of a number (a non-negative\n",
    "integer). The function accepts the number as an argument.***"
   ]
  },
  {
   "cell_type": "code",
   "execution_count": 1,
   "metadata": {},
   "outputs": [
    {
     "name": "stdout",
     "output_type": "stream",
     "text": [
      "Enter an integer:5\n",
      "The factorial of 5 is 120\n"
     ]
    }
   ],
   "source": [
    "def factorial(n):\n",
    "    factorial=1\n",
    "    if n < 0:\n",
    "        print(\"sorry the factorial of real number does not exist!\")\n",
    "    elif n == 0:\n",
    "        print(\"The factial of 0 is 1!\")\n",
    "    else:\n",
    "        for i in range(n):\n",
    "            factorial+=factorial*i\n",
    "        print(\"The factorial of\",n,\"is\",factorial)\n",
    "n=int(input(\"Enter an integer:\"))    \n",
    "factorial(n)\n",
    "    "
   ]
  },
  {
   "cell_type": "markdown",
   "metadata": {},
   "source": [
    "***Q:2 Write a Python function that accepts a string and calculate the number of upper\n",
    "case letters and lower case letters.***"
   ]
  },
  {
   "cell_type": "code",
   "execution_count": 2,
   "metadata": {},
   "outputs": [],
   "source": [
    "def upper_lower(string):\n",
    "    count_upper=0\n",
    "    count_lower=0\n",
    "    for i in string:\n",
    "        if i.isupper():\n",
    "            count_upper+=1\n",
    "        if i.islower():\n",
    "            count_lower+=1\n",
    "    print(\"The no. of upper case letter is:\",count_upper)\n",
    "    print(\"The no. of lower case letter is:\",count_lower)\n"
   ]
  },
  {
   "cell_type": "code",
   "execution_count": 3,
   "metadata": {},
   "outputs": [
    {
     "name": "stdout",
     "output_type": "stream",
     "text": [
      "The no. of upper case letter is: 3\n",
      "The no. of lower case letter is: 10\n"
     ]
    }
   ],
   "source": [
    "upper_lower(\"Hi Good Morning\")"
   ]
  },
  {
   "cell_type": "markdown",
   "metadata": {},
   "source": [
    "***Q:3 Write a Python function to print the even numbers from a given list.***"
   ]
  },
  {
   "cell_type": "code",
   "execution_count": 4,
   "metadata": {},
   "outputs": [
    {
     "name": "stdout",
     "output_type": "stream",
     "text": [
      "The number of Even No exists in list is: 5\n"
     ]
    }
   ],
   "source": [
    "def even_no():\n",
    "    count=0\n",
    "    lst=[1,2,46,6,3,2,5,10]\n",
    "    for i in lst:\n",
    "        if i % 2 ==0:\n",
    "            count+=1\n",
    "        else:\n",
    "            count=count\n",
    "    return count\n",
    "print(\"The number of Even No exists in list is:\",even_no())\n"
   ]
  },
  {
   "cell_type": "markdown",
   "metadata": {},
   "source": [
    "***Q:4 Write a python program that checks whether a passed string is palindrome or not.***"
   ]
  },
  {
   "cell_type": "code",
   "execution_count": 13,
   "metadata": {},
   "outputs": [
    {
     "name": "stdout",
     "output_type": "stream",
     "text": [
      "Enter a string:bob\n",
      "It Is Palindrome!\n"
     ]
    }
   ],
   "source": [
    "def palindrome(string):\n",
    "    string=string.upper()\n",
    "    if string == string[::-1]:\n",
    "        print(\"It Is Palindrome!\")\n",
    "    else:\n",
    "        print(\"its not a Palindrome!\")\n",
    "string=input(\"Enter a string:\")\n",
    "palindrome(string)"
   ]
  },
  {
   "cell_type": "markdown",
   "metadata": {},
   "source": [
    "***Q:5 Write a python program that takes a number as a parameter and check the number is prime or not.***"
   ]
  },
  {
   "cell_type": "code",
   "execution_count": 9,
   "metadata": {},
   "outputs": [
    {
     "name": "stdout",
     "output_type": "stream",
     "text": [
      "Enter a number:5\n",
      "5 is a prime no\n"
     ]
    }
   ],
   "source": [
    "def prime(no):\n",
    "    if no == 1 or no == 0:\n",
    "        print(no,\"is not a prime number!\")\n",
    "    if no==2:\n",
    "        print(no,\"is a prime number!\")\n",
    "    else:\n",
    "        for i in range(2,no):\n",
    "            if no % i==0:\n",
    "                print(no,\"is not a prime no\")\n",
    "                break\n",
    "            else:\n",
    "                print(no,\"is a prime no\")\n",
    "                break\n",
    "no=int(input(\"Enter a number:\"))\n",
    "prime(no)"
   ]
  },
  {
   "cell_type": "markdown",
   "metadata": {},
   "source": [
    "***Q:6 Write a function which accepts multiple argument of user shopping list and print all the items which user brought from market***"
   ]
  },
  {
   "cell_type": "code",
   "execution_count": 10,
   "metadata": {},
   "outputs": [],
   "source": [
    "def shoping_list(*lst):\n",
    "    print(\"The list of items bought from market is:\")\n",
    "    for item in lst:\n",
    "        print(item)\n",
    "        "
   ]
  },
  {
   "cell_type": "code",
   "execution_count": 11,
   "metadata": {},
   "outputs": [
    {
     "name": "stdout",
     "output_type": "stream",
     "text": [
      "The list of items bought from market is:\n",
      "kurtis\n",
      "shoes\n",
      "bags\n",
      "eareings\n",
      "watch\n"
     ]
    }
   ],
   "source": [
    "shoping_list(\"kurtis\",\"shoes\",\"bags\",\"eareings\",\"watch\")"
   ]
  },
  {
   "cell_type": "code",
   "execution_count": null,
   "metadata": {},
   "outputs": [],
   "source": []
  }
 ],
 "metadata": {
  "kernelspec": {
   "display_name": "Python 3",
   "language": "python",
   "name": "python3"
  },
  "language_info": {
   "codemirror_mode": {
    "name": "ipython",
    "version": 3
   },
   "file_extension": ".py",
   "mimetype": "text/x-python",
   "name": "python",
   "nbconvert_exporter": "python",
   "pygments_lexer": "ipython3",
   "version": "3.7.3"
  }
 },
 "nbformat": 4,
 "nbformat_minor": 2
}
