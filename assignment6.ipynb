{
 "cells": [
  {
   "cell_type": "markdown",
   "metadata": {},
   "source": [
    "# ASSIGNMENT NO 06"
   ]
  },
  {
   "cell_type": "markdown",
   "metadata": {},
   "source": [
    "# Instructor:Sir Ali Mughal"
   ]
  },
  {
   "cell_type": "markdown",
   "metadata": {},
   "source": [
    "## Q:1 What is Objective Oriented Programming Language?"
   ]
  },
  {
   "cell_type": "markdown",
   "metadata": {},
   "source": [
    "***OBJECTIVE ORIENTED PROGRAMMING LANGUAGE:***"
   ]
  },
  {
   "cell_type": "markdown",
   "metadata": {},
   "source": [
    "**Object-oriented programming (OOP) is a programming language model in which programs are organized around data, or objects, rather than functions and logic. \n",
    "OOP uses the concept of objects and classes. A class can be thought of as a 'blueprint' for objects. These can have their own attributes (characteristics they possess), and methods (actions they perform).\n",
    "The key takeaway is that objects are at the center of the object-oriented programming paradigm, not only representing the data, but in the overall structure of the program as well.**"
   ]
  },
  {
   "cell_type": "code",
   "execution_count": 15,
   "metadata": {},
   "outputs": [
    {
     "data": {
      "text/html": [
       "<img src=\"https://miro.medium.com/max/500/1*y6Opk-cAQVe6uyKYH3306g.png\"/>"
      ],
      "text/plain": [
       "<IPython.core.display.Image object>"
      ]
     },
     "execution_count": 15,
     "metadata": {},
     "output_type": "execute_result"
    }
   ],
   "source": [
    "from IPython.display import Image\n",
    "from IPython.core.display import HTML \n",
    "Image(url= \"https://miro.medium.com/max/500/1*y6Opk-cAQVe6uyKYH3306g.png\")"
   ]
  },
  {
   "cell_type": "markdown",
   "metadata": {},
   "source": [
    "## Q:2 List down the Benefits of OOP?"
   ]
  },
  {
   "cell_type": "markdown",
   "metadata": {},
   "source": [
    "## BENEFITS OF OOP:"
   ]
  },
  {
   "cell_type": "markdown",
   "metadata": {},
   "source": [
    "### 1.Clear Modular Structure:\n",
    "**It provides a clear modular structure for programs which makes it good for defining abstract datatypes in which implementation details are hidden.**\n",
    "### 2. Code Reusability:\n",
    "**Objects can also be reused within an across applications. The reuse of software also lowers the cost of development. More effort is put into the object-oriented analysis and design, which lowers the overall cost of development.**\n",
    "### 3.Easier to Maintain:\n",
    "**It makes software easier to maintain. Since the design is modular, part of the system can be updated in case of issues without a need to make large-scale changes**\n",
    " ### 4.Faster Development:\n",
    "**Reuse also enables faster development. Object-oriented programming languages come with rich libraries of objects, and code developed during projects is also reusable in future projects**\n",
    "### 5.Easier to Test:\n",
    " **Programmes written in OOP technique are marginally easier to test, manage as well as maintain.**\n",
    "### 6.Secured:\n",
    "**It is a secured development technique since data is hidden and can’t be accessed by external functions.**\n",
    "### 7.Real World Entities:\n",
    "**Since everything is treated as objects, so we can model a real-world concept using OOP.**\n",
    "### 8. Polymorphism :\n",
    "**It is another feature of the object oriented programming. Polymorphism simply means that a function has many forms.**\n",
    "### 9.Inheritance: \n",
    "**We know that OOPS Provide Inheritance with the Help of the Inheritance The Code that is Previously Code  is used in many Places where we wants  By using the Inheritance We can Create our Programs by using pre-defined code.**"
   ]
  },
  {
   "cell_type": "markdown",
   "metadata": {},
   "source": [
    "# Q:3 Difference between Method and Function."
   ]
  },
  {
   "cell_type": "markdown",
   "metadata": {},
   "source": [
    " ## Difference Between Method & Function:\n",
    "-  A **Method is a procedure or function in object-oriented programming**.while **Function is a group of reusable code which can be called anywhere in your program.**\n",
    "- Method is called by its name, but it is **associated to an object (dependent)**.while Function is block of code that is also called by its name. **(independent)**\n",
    "- A method is **implicitly passed the object** on which it is invoked.while The function can have different parameters or may not have any at all. If any data (parameters) are passed, **they are passed explicitly.**\n",
    "- Method may or may not return any data.\n",
    "-  A method **can operate on the data (instance variables)** that is contained by the corresponding class.while Function does **not deal with Class and its instance concept.**"
   ]
  },
  {
   "cell_type": "markdown",
   "metadata": {},
   "source": [
    "\n",
    "# Q:4 Define the following terms: 1. Class 2. Object 3. Attribute 4. Behavior "
   ]
  },
  {
   "cell_type": "markdown",
   "metadata": {},
   "source": [
    "\n",
    "## 1.Classes:\n",
    "**A class is a collection of objects of similar type. Once a class is defined, any number of objects can be created which belong to that class.**\n",
    "## 2.Objects:\n",
    "**Objects are the basic run-time entities in an object-oriented system. Programming problem is analyzed in terms of objects and nature of communication between them. When a program is executed, objects interact with each other by sending messages. Different objects can also interact with each other without knowing the details of their data or code.**\n",
    "## 3.Attribute:\n",
    "**In Object-oriented programming(OOP), classes and objects have attributes. Attributes are data stored inside a class or instance and represent the state or quality of the class or instance. In short, attributes store information about the instance. Also, attributes should not be confused with class functions also known as methods. One can think of attributes as noun or adjective, while methods are the verb of the class.\n",
    "Class attributes**\n",
    "## 4.Behavior:\n",
    "**A class's behavior determines how an instance of that class operates; for example, how it will \"react\" if asked to do something by another class or object or if its internal state changes. Behavior is the only way objects can do anything to themselves or have anything done to them.**"
   ]
  },
  {
   "cell_type": "markdown",
   "metadata": {},
   "source": [
    "## Q:5  Write a code in python in which create a class named it Car whichhave 5 attributes such like (model, color and name etc.) and 3methods. And create 5 object instance from that class."
   ]
  },
  {
   "cell_type": "code",
   "execution_count": 2,
   "metadata": {},
   "outputs": [],
   "source": [
    " class Car():\n",
    "        def __init__(self,model,color,name,price,manufactured_year):\n",
    "            self.model=model\n",
    "            self.color=color\n",
    "            self.name=name\n",
    "            self.price=price\n",
    "            self.manufactured_year=manufactured_year\n",
    "        def print_detail(self):\n",
    "            print(\"Name of Car:\",self.name)\n",
    "            print(\"Price of Car:\",self.price)\n",
    "            print(\"Color of Car:\",self.color)\n",
    "            print(\"Model of Car:\",self.model)\n",
    "            print(\"Manaufactured Year of Car:\",self.manufactured_year)\n",
    "        def drive(self):\n",
    "            print('Engine started')\n",
    "        def brake(self):\n",
    "            print(\"Brake\")\n",
    "            \n",
    "\n",
    "\n",
    "            \n",
    "        \n",
    "    "
   ]
  },
  {
   "cell_type": "code",
   "execution_count": 3,
   "metadata": {},
   "outputs": [],
   "source": [
    "object1=Car(\"X123\",\"BLACK\",\"AUDI\",2500000,2019)"
   ]
  },
  {
   "cell_type": "code",
   "execution_count": 4,
   "metadata": {},
   "outputs": [
    {
     "name": "stdout",
     "output_type": "stream",
     "text": [
      "Name of Car: AUDI\n",
      "Price of Car: 2500000\n",
      "Color of Car: BLACK\n",
      "Model of Car: X123\n",
      "Manaufactured Year of Car: 2019\n"
     ]
    }
   ],
   "source": [
    "object1.print_detail()"
   ]
  },
  {
   "cell_type": "code",
   "execution_count": 5,
   "metadata": {},
   "outputs": [
    {
     "name": "stdout",
     "output_type": "stream",
     "text": [
      "Engine started\n"
     ]
    }
   ],
   "source": [
    "object1.drive()"
   ]
  },
  {
   "cell_type": "code",
   "execution_count": 6,
   "metadata": {},
   "outputs": [
    {
     "name": "stdout",
     "output_type": "stream",
     "text": [
      "Brake\n"
     ]
    }
   ],
   "source": [
    "object1.brake()"
   ]
  },
  {
   "cell_type": "code",
   "execution_count": 7,
   "metadata": {},
   "outputs": [],
   "source": [
    "object2=Car(\"M256\",\"WHITE\",\"BMW\",200000,2018)"
   ]
  },
  {
   "cell_type": "code",
   "execution_count": 8,
   "metadata": {},
   "outputs": [
    {
     "name": "stdout",
     "output_type": "stream",
     "text": [
      "Name of Car: BMW\n",
      "Price of Car: 200000\n",
      "Color of Car: WHITE\n",
      "Model of Car: M256\n",
      "Manaufactured Year of Car: 2018\n"
     ]
    }
   ],
   "source": [
    "object2.print_detail()"
   ]
  },
  {
   "cell_type": "code",
   "execution_count": 9,
   "metadata": {},
   "outputs": [
    {
     "name": "stdout",
     "output_type": "stream",
     "text": [
      "Engine started\n"
     ]
    }
   ],
   "source": [
    "object2.drive()"
   ]
  },
  {
   "cell_type": "code",
   "execution_count": 10,
   "metadata": {},
   "outputs": [
    {
     "name": "stdout",
     "output_type": "stream",
     "text": [
      "Brake\n"
     ]
    }
   ],
   "source": [
    "object2.brake()"
   ]
  },
  {
   "cell_type": "code",
   "execution_count": 11,
   "metadata": {},
   "outputs": [],
   "source": [
    "object3=Car(\"FG345\",\"RED\",\"Farari\",3000000,2019)"
   ]
  },
  {
   "cell_type": "code",
   "execution_count": 12,
   "metadata": {},
   "outputs": [
    {
     "name": "stdout",
     "output_type": "stream",
     "text": [
      "Name of Car: Farari\n",
      "Price of Car: 3000000\n",
      "Color of Car: RED\n",
      "Model of Car: FG345\n",
      "Manaufactured Year of Car: 2019\n"
     ]
    }
   ],
   "source": [
    "object3.print_detail()"
   ]
  },
  {
   "cell_type": "code",
   "execution_count": 13,
   "metadata": {},
   "outputs": [
    {
     "name": "stdout",
     "output_type": "stream",
     "text": [
      "Engine started\n"
     ]
    }
   ],
   "source": [
    "object3.drive()"
   ]
  },
  {
   "cell_type": "code",
   "execution_count": 14,
   "metadata": {},
   "outputs": [
    {
     "name": "stdout",
     "output_type": "stream",
     "text": [
      "Brake\n"
     ]
    }
   ],
   "source": [
    "object3.brake()"
   ]
  },
  {
   "cell_type": "code",
   "execution_count": 16,
   "metadata": {},
   "outputs": [],
   "source": [
    "object4=Car(\"FG356\",\"RED\",\"Mercedes\",3500000,2017)"
   ]
  },
  {
   "cell_type": "code",
   "execution_count": 17,
   "metadata": {},
   "outputs": [
    {
     "name": "stdout",
     "output_type": "stream",
     "text": [
      "Engine started\n",
      "Brake\n"
     ]
    }
   ],
   "source": [
    "object4.drive()\n",
    "object4.brake()"
   ]
  },
  {
   "cell_type": "code",
   "execution_count": 18,
   "metadata": {},
   "outputs": [
    {
     "name": "stdout",
     "output_type": "stream",
     "text": [
      "Name of Car: Mercedes\n",
      "Price of Car: 3500000\n",
      "Color of Car: RED\n",
      "Model of Car: FG356\n",
      "Manaufactured Year of Car: 2017\n"
     ]
    }
   ],
   "source": [
    "object4.print_detail()"
   ]
  },
  {
   "cell_type": "code",
   "execution_count": 19,
   "metadata": {},
   "outputs": [],
   "source": [
    "object5=Car(\"GHG356\",\"GREY\",\"HONDACIVIC\",3500000,2016)"
   ]
  },
  {
   "cell_type": "code",
   "execution_count": 20,
   "metadata": {},
   "outputs": [
    {
     "name": "stdout",
     "output_type": "stream",
     "text": [
      "Name of Car: HONDACIVIC\n",
      "Price of Car: 3500000\n",
      "Color of Car: GREY\n",
      "Model of Car: GHG356\n",
      "Manaufactured Year of Car: 2016\n"
     ]
    }
   ],
   "source": [
    "object5.print_detail()"
   ]
  },
  {
   "cell_type": "code",
   "execution_count": 21,
   "metadata": {},
   "outputs": [
    {
     "name": "stdout",
     "output_type": "stream",
     "text": [
      "Engine started\n"
     ]
    }
   ],
   "source": [
    "object5.drive()"
   ]
  },
  {
   "cell_type": "code",
   "execution_count": 22,
   "metadata": {},
   "outputs": [
    {
     "name": "stdout",
     "output_type": "stream",
     "text": [
      "Brake\n"
     ]
    }
   ],
   "source": [
    "object5.brake()"
   ]
  },
  {
   "cell_type": "code",
   "execution_count": null,
   "metadata": {},
   "outputs": [],
   "source": []
  }
 ],
 "metadata": {
  "kernelspec": {
   "display_name": "Python 3",
   "language": "python",
   "name": "python3"
  },
  "language_info": {
   "codemirror_mode": {
    "name": "ipython",
    "version": 3
   },
   "file_extension": ".py",
   "mimetype": "text/x-python",
   "name": "python",
   "nbconvert_exporter": "python",
   "pygments_lexer": "ipython3",
   "version": "3.7.3"
  }
 },
 "nbformat": 4,
 "nbformat_minor": 2
}
