{
 "cells": [
  {
   "cell_type": "markdown",
   "metadata": {},
   "source": [
    "# Assignment 4\n",
    "## Instructor:Sir Ali Mughal"
   ]
  },
  {
   "cell_type": "markdown",
   "metadata": {},
   "source": [
    "***Q:1 Use a dictionary to store information about a person you know. Store their first name, last name, age,\n",
    "and the city in which they live. You should have keys such as first_name, last_name, age, and city. Print\n",
    "each piece of information stored in your dictionary. Add a new key value pair about qualification then\n",
    "update the qualification value to high academic level then delete it.***"
   ]
  },
  {
   "cell_type": "code",
   "execution_count": 1,
   "metadata": {},
   "outputs": [
    {
     "name": "stdout",
     "output_type": "stream",
     "text": [
      "First Name: Asma\n",
      "Last Name: Khurram\n",
      "City: Karachi\n"
     ]
    }
   ],
   "source": [
    "dic={\n",
    "    \"first_name\":\"Asma\",\n",
    "    \"last_name\":\"Khurram\",\n",
    "    \"city\":\"Karachi\"\n",
    "}\n",
    "print(\"First Name:\",dic[\"first_name\"])\n",
    "print(\"Last Name:\",dic[\"last_name\"])\n",
    "print(\"City:\",dic[\"city\"])\n"
   ]
  },
  {
   "cell_type": "code",
   "execution_count": 2,
   "metadata": {},
   "outputs": [],
   "source": [
    "dic[\"qualification\"]=\"B.com\"\n"
   ]
  },
  {
   "cell_type": "code",
   "execution_count": 3,
   "metadata": {},
   "outputs": [
    {
     "data": {
      "text/plain": [
       "{'first_name': 'Asma',\n",
       " 'last_name': 'Khurram',\n",
       " 'city': 'Karachi',\n",
       " 'qualification': 'B.com'}"
      ]
     },
     "execution_count": 3,
     "metadata": {},
     "output_type": "execute_result"
    }
   ],
   "source": [
    "dic"
   ]
  },
  {
   "cell_type": "code",
   "execution_count": 4,
   "metadata": {},
   "outputs": [],
   "source": [
    "dic[\"qualification\"]='Mcom'\n"
   ]
  },
  {
   "cell_type": "code",
   "execution_count": 5,
   "metadata": {},
   "outputs": [
    {
     "data": {
      "text/plain": [
       "{'first_name': 'Asma',\n",
       " 'last_name': 'Khurram',\n",
       " 'city': 'Karachi',\n",
       " 'qualification': 'Mcom'}"
      ]
     },
     "execution_count": 5,
     "metadata": {},
     "output_type": "execute_result"
    }
   ],
   "source": [
    "dic"
   ]
  },
  {
   "cell_type": "code",
   "execution_count": 6,
   "metadata": {},
   "outputs": [],
   "source": [
    "del dic[\"qualification\"]"
   ]
  },
  {
   "cell_type": "code",
   "execution_count": 7,
   "metadata": {},
   "outputs": [
    {
     "data": {
      "text/plain": [
       "{'first_name': 'Asma', 'last_name': 'Khurram', 'city': 'Karachi'}"
      ]
     },
     "execution_count": 7,
     "metadata": {},
     "output_type": "execute_result"
    }
   ],
   "source": [
    "dic"
   ]
  },
  {
   "cell_type": "markdown",
   "metadata": {},
   "source": [
    "***Q:2 Make a dictionary called cities. Use the names of three cities as keys in your dictionary. Create a\n",
    "dictionary of information about each city and include the country that the city is in, its approximate\n",
    "population, and one fact about that city. The keys for each city’s dictionary should be something like\n",
    "country, population, and fact. Print the name of each city and all of the information you have stored\n",
    "about it.***"
   ]
  },
  {
   "cell_type": "code",
   "execution_count": 8,
   "metadata": {},
   "outputs": [],
   "source": [
    "cities={\n",
    "    \"Karachi\":{\"Country\":\"Pakistan\",\"Population\":\"15,741,000\",\"Fact\":\"It is the Sixth largest city in the world by city population\"},\n",
    "    \"Delhi\":{\"Country\":\"India\",\"Population\":\"29,399,141\",\"Fact\":\"Delhi was surrounded by 14 gates initially out of which only five still stand.\"},\n",
    "    \"Medina\":{\"Country\":\"Saudi Arabia\",\"Population\":\"1,459,000\",\"Fact\":\"At the city's heart is al-Masjid an-Nabawi ('The Prophet's Mosque'), which is the burial place of the Islamic prophet, Muhammad\"}\n",
    "\n",
    "\n",
    "}"
   ]
  },
  {
   "cell_type": "code",
   "execution_count": 9,
   "metadata": {},
   "outputs": [
    {
     "name": "stdout",
     "output_type": "stream",
     "text": [
      "City Name: Karachi\n",
      "Information: {'Country': 'Pakistan', 'Population': '15,741,000', 'Fact': 'It is the Sixth largest city in the world by city population'}\n",
      "City Name: Delhi\n",
      "Information: {'Country': 'India', 'Population': '29,399,141', 'Fact': 'Delhi was surrounded by 14 gates initially out of which only five still stand.'}\n",
      "City Name: Medina\n",
      "Information: {'Country': 'Saudi Arabia', 'Population': '1,459,000', 'Fact': \"At the city's heart is al-Masjid an-Nabawi ('The Prophet's Mosque'), which is the burial place of the Islamic prophet, Muhammad\"}\n"
     ]
    }
   ],
   "source": [
    "for k,v in cities.items():\n",
    "    print(\"City Name:\",k)\n",
    "    print(\"Information:\",v)"
   ]
  },
  {
   "cell_type": "markdown",
   "metadata": {},
   "source": [
    "***Q:3 A movie theater charges different ticket prices depending on a person’s age. If a person is under the age\n",
    "of 3, the ticket is free; if they are between 3 and 12, the ticket is $10; and if they are over age 12, the\n",
    "ticket is $15. Write a loop in which you ask users their age, and then tell them the cost of their movie\n",
    "ticket.***"
   ]
  },
  {
   "cell_type": "code",
   "execution_count": 10,
   "metadata": {},
   "outputs": [
    {
     "name": "stdout",
     "output_type": "stream",
     "text": [
      "Press x for exit!:\n",
      "press Enter to continue!\n",
      "Enter your choice:\n",
      "Enter your Age:3\n",
      "Ticket is free!\n",
      "Enter your choice:x\n"
     ]
    }
   ],
   "source": [
    "print(\"Press x for exit!:\")\n",
    "print(\"press Enter to continue!\")\n",
    "while True:\n",
    "    choice=input(\"Enter your choice:\")\n",
    "    if choice == \"x\":\n",
    "        break\n",
    "    else:\n",
    "        age=int(input(\"Enter your Age:\")) \n",
    "        if age <= 3:\n",
    "            print(\"Ticket is free!\")\n",
    "        elif age > 3 and age <= 12:\n",
    "            print(\"Ticket is 10$\")\n",
    "        else:\n",
    "            print(\"Ticket is 15$\")"
   ]
  },
  {
   "cell_type": "markdown",
   "metadata": {},
   "source": [
    "***Q:4 Write a function called favorite_book() that accepts one parameter, title. The function should print a\n",
    "message, such as One of my favorite books is Alice in Wonderland. Call the function, making sure to\n",
    "include a book title as an argument in the function call.***"
   ]
  },
  {
   "cell_type": "code",
   "execution_count": 11,
   "metadata": {},
   "outputs": [
    {
     "name": "stdout",
     "output_type": "stream",
     "text": [
      "Enter your favourite book name here:Jannat K Patty\n",
      "One of my favourite books is Jannat K Patty\n"
     ]
    }
   ],
   "source": [
    "def favorite_book(title):\n",
    "    print(\"One of my favourite books is\",title)\n",
    "title=input(\"Enter your favourite book name here:\")\n",
    "favorite_book(title)"
   ]
  },
  {
   "cell_type": "markdown",
   "metadata": {},
   "source": [
    "***Q:5 Write a program which randomly generate a number between 1 to 30 and ask the user in input field to\n",
    "guess the correct number. Give three chances to user guess the number and also give hint to user if\n",
    "hidden number is greater or smaller than the number he given to input field.***"
   ]
  },
  {
   "cell_type": "code",
   "execution_count": 12,
   "metadata": {},
   "outputs": [],
   "source": [
    "from random import randint as  rd"
   ]
  },
  {
   "cell_type": "code",
   "execution_count": 13,
   "metadata": {},
   "outputs": [
    {
     "data": {
      "text/plain": [
       "4"
      ]
     },
     "execution_count": 13,
     "metadata": {},
     "output_type": "execute_result"
    }
   ],
   "source": [
    "number=rd(1,30)\n",
    "number"
   ]
  },
  {
   "cell_type": "code",
   "execution_count": 14,
   "metadata": {},
   "outputs": [
    {
     "name": "stdout",
     "output_type": "stream",
     "text": [
      "Guess the Correct Number:5\n",
      "The No. You Have Guessed is Greater than the exact No.!\n",
      "Guess the Correct Number:2\n",
      "The No you Have Guessed is Less Than the exact No.!. \n",
      "Guess the Correct Number:4\n",
      "Congratulations! You Guess the Correct Number.\n"
     ]
    }
   ],
   "source": [
    " for i in range(3):\n",
    "    guess=int(input(\"Guess the Correct Number:\"))\n",
    "    if guess == number:\n",
    "        print(\"Congratulations! You Guess the Correct Number.\")\n",
    "        break\n",
    "    elif  guess > number:\n",
    "        print(\"The No. You Have Guessed is Greater than the exact No.!\")\n",
    "    elif guess < number:\n",
    "        print(\"The No you Have Guessed is Less Than the exact No.!. \")\n",
    "    else:\n",
    "        print(\"sorry! Error\")\n"
   ]
  },
  {
   "cell_type": "code",
   "execution_count": null,
   "metadata": {},
   "outputs": [],
   "source": [
    "\n"
   ]
  }
 ],
 "metadata": {
  "kernelspec": {
   "display_name": "Python 3",
   "language": "python",
   "name": "python3"
  },
  "language_info": {
   "codemirror_mode": {
    "name": "ipython",
    "version": 3
   },
   "file_extension": ".py",
   "mimetype": "text/x-python",
   "name": "python",
   "nbconvert_exporter": "python",
   "pygments_lexer": "ipython3",
   "version": "3.7.3"
  }
 },
 "nbformat": 4,
 "nbformat_minor": 2
}
