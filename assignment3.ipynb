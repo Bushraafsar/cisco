{
 "cells": [
  {
   "cell_type": "markdown",
   "metadata": {},
   "source": [
    "# ASSIGNMENT NO : 3"
   ]
  },
  {
   "cell_type": "markdown",
   "metadata": {},
   "source": [
    "# Instructor:Sir Ali Mughal"
   ]
  },
  {
   "cell_type": "markdown",
   "metadata": {},
   "source": [
    "***Q:1 Make a calculator using python with addition ,subtraction,multiplication,division and power.***"
   ]
  },
  {
   "cell_type": "code",
   "execution_count": 1,
   "metadata": {},
   "outputs": [
    {
     "name": "stdout",
     "output_type": "stream",
     "text": [
      "---------------------WELCOME TO MY CALCULATOR-----------------\n",
      "Press Enter to Continue:\n",
      "Press add for Addition :\n",
      "Press sub for Subtration :\n",
      "Press mul for Multiplication :\n",
      "Press div for Division :\n",
      "Press pow for Power :\n",
      "Enter your Desire Operation:add\n",
      "Enter First Number:2\n",
      "Enter Second Number:3\n",
      "Result: 5\n"
     ]
    }
   ],
   "source": [
    "print(\"---------------------WELCOME TO MY CALCULATOR-----------------\")\n",
    "input('Press Enter to Continue:')\n",
    "print(\"Press add for Addition :\")\n",
    "print(\"Press sub for Subtration :\")\n",
    "print(\"Press mul for Multiplication :\")\n",
    "print(\"Press div for Division :\")\n",
    "print(\"Press pow for Power :\")\n",
    "choice=input(\"Enter your Desire Operation:\")\n",
    "num1=int(input(\"Enter First Number:\"))\n",
    "num2=int(input(\"Enter Second Number:\"))\n",
    "if choice==\"add\":\n",
    "    print(\"Result:\",num1+num2)\n",
    "elif choice==\"sub\":\n",
    "    print(\"Result:\",num1-num2)\n",
    "elif choice==\"mul\":\n",
    "    print(\"Result:\",num1*num2)\n",
    "elif choice==\"div\":\n",
    "    print(\"Result:\",num1/num2)\n",
    "elif choice==\"pow\":\n",
    "    print(\"Result\",num1**num2)\n",
    "else:\n",
    "    print(\"You enter Wrong choice!!\")\n",
    "    \n",
    "    \n",
    "\n",
    "        \n",
    "\n",
    "\n",
    "\n"
   ]
  },
  {
   "cell_type": "markdown",
   "metadata": {},
   "source": [
    "***Q:2 Write a program to check if there is any numeric value in list using for loop.***"
   ]
  },
  {
   "cell_type": "code",
   "execution_count": 2,
   "metadata": {},
   "outputs": [
    {
     "name": "stdout",
     "output_type": "stream",
     "text": [
      "THERE IS NUMERIC VALUE!\n"
     ]
    }
   ],
   "source": [
    "lst=['bushra','afsar ali',234,'capricorn','Bcom',90]\n",
    "for i in lst:\n",
    "    if isinstance(i,int):\n",
    "        print(\"THERE IS NUMERIC VALUE!\")\n",
    "        break\n",
    "\n",
    "    \n",
    " "
   ]
  },
  {
   "cell_type": "markdown",
   "metadata": {},
   "source": [
    "***Q:3 Write a Python script to add key to a dictionary.***"
   ]
  },
  {
   "cell_type": "code",
   "execution_count": 3,
   "metadata": {},
   "outputs": [
    {
     "name": "stdout",
     "output_type": "stream",
     "text": [
      "Enter Key Name You Wanna Add in Dictionary:section\n",
      "Enter Its Value:A\n",
      "Dictionary {'name': 'Ali', 'class': 2, 'roll no': 1234, 'section': 'A'}\n"
     ]
    }
   ],
   "source": [
    "dic={'name':'Ali',\n",
    "    'class':2,\n",
    "    'roll no':1234}\n",
    "key_name=input(\"Enter Key Name You Wanna Add in Dictionary:\")\n",
    "value=input(\"Enter Its Value:\")\n",
    "dic[key_name]=value\n",
    "print(\"Dictionary\",dic)  \n"
   ]
  },
  {
   "cell_type": "markdown",
   "metadata": {},
   "source": [
    "***Q:4 Write a Python Program to sum all the numeric item in dictionary.***"
   ]
  },
  {
   "cell_type": "code",
   "execution_count": 4,
   "metadata": {},
   "outputs": [
    {
     "name": "stdout",
     "output_type": "stream",
     "text": [
      "sum of all numeric value of dictionary is: 7\n"
     ]
    }
   ],
   "source": [
    "dic={\"num1\":1,\n",
    "    'num2':2,\n",
    "     \"num3\":4}\n",
    "print(\"sum of all numeric value of dictionary is:\",sum(dic.values()))"
   ]
  },
  {
   "cell_type": "markdown",
   "metadata": {},
   "source": [
    "***Q:5 Write a program to identify duplicate value from the list.***"
   ]
  },
  {
   "cell_type": "code",
   "execution_count": 5,
   "metadata": {},
   "outputs": [],
   "source": [
    "from collections import Counter"
   ]
  },
  {
   "cell_type": "code",
   "execution_count": 6,
   "metadata": {},
   "outputs": [],
   "source": [
    "lst=['bushra',2,4,'shah',55,'ashha',1,2,4,'bushra']"
   ]
  },
  {
   "cell_type": "code",
   "execution_count": 7,
   "metadata": {},
   "outputs": [],
   "source": [
    "result=Counter(lst)"
   ]
  },
  {
   "cell_type": "code",
   "execution_count": 8,
   "metadata": {},
   "outputs": [
    {
     "name": "stdout",
     "output_type": "stream",
     "text": [
      "bushra\n",
      "2\n",
      "4\n"
     ]
    }
   ],
   "source": [
    "for k,v in result.items():\n",
    "    if v > 1:\n",
    "        print(k)"
   ]
  },
  {
   "cell_type": "markdown",
   "metadata": {},
   "source": [
    "***Q:6 Write a python script to check if a given key already exist in a dictionary.***"
   ]
  },
  {
   "cell_type": "code",
   "execution_count": 9,
   "metadata": {},
   "outputs": [
    {
     "name": "stdout",
     "output_type": "stream",
     "text": [
      "Enter key name you want to check:price\n"
     ]
    }
   ],
   "source": [
    "dic={'size':'regular',\n",
    "    'flavour':'chicken tikka',\n",
    "    'crust':'thick'}\n",
    "key=input(\"Enter key name you want to check:\")"
   ]
  },
  {
   "cell_type": "code",
   "execution_count": 10,
   "metadata": {},
   "outputs": [
    {
     "data": {
      "text/plain": [
       "'This key does not exist in the dictionary!'"
      ]
     },
     "execution_count": 10,
     "metadata": {},
     "output_type": "execute_result"
    }
   ],
   "source": [
    "dic.get( key,'This key does not exist in the dictionary!')"
   ]
  },
  {
   "cell_type": "code",
   "execution_count": null,
   "metadata": {},
   "outputs": [],
   "source": []
  },
  {
   "cell_type": "code",
   "execution_count": null,
   "metadata": {},
   "outputs": [],
   "source": []
  }
 ],
 "metadata": {
  "kernelspec": {
   "display_name": "Python 3",
   "language": "python",
   "name": "python3"
  },
  "language_info": {
   "codemirror_mode": {
    "name": "ipython",
    "version": 3
   },
   "file_extension": ".py",
   "mimetype": "text/x-python",
   "name": "python",
   "nbconvert_exporter": "python",
   "pygments_lexer": "ipython3",
   "version": "3.7.3"
  }
 },
 "nbformat": 4,
 "nbformat_minor": 2
}
