{
 "cells": [
  {
   "cell_type": "markdown",
   "metadata": {},
   "source": [
    "# ASSIGNMENT NO : 2"
   ]
  },
  {
   "cell_type": "markdown",
   "metadata": {},
   "source": [
    "## Instuctor: Sir Ali Mughal"
   ]
  },
  {
   "cell_type": "markdown",
   "metadata": {},
   "source": [
    "***Q:1 Write a python program which takes 5 inputs from the user for different subjects marks,total it and generate marksheet using grades.***"
   ]
  },
  {
   "cell_type": "code",
   "execution_count": 1,
   "metadata": {},
   "outputs": [
    {
     "name": "stdout",
     "output_type": "stream",
     "text": [
      "==========OBTAINING INPUT FROM USER=============\n",
      "Enter name of the student:BUSHRA AFSAR\n",
      "Enter roll no of the student:101512\n",
      "Enter Obtained Marks of English:55\n",
      "Enter Obtained Marks of Urdu:46\n",
      "Enter Obtained Marks of Computer Science:34\n",
      "Enter Obtained Marks of Chemistry:66\n",
      "Enter Obtained Marks of Pakistan Study:60\n"
     ]
    }
   ],
   "source": [
    "print(\"==========OBTAINING INPUT FROM USER=============\")\n",
    "name=input(\"Enter name of the student:\")\n",
    "roll_no=int(input(\"Enter roll no of the student:\"))\n",
    "english=int(input(\"Enter Obtained Marks of English:\"))\n",
    "urdu=int(input(\"Enter Obtained Marks of Urdu:\"))\n",
    "computer_science=int(input(\"Enter Obtained Marks of Computer Science:\"))\n",
    "chemistry=int(input(\"Enter Obtained Marks of Chemistry:\"))\n",
    "pak_studies=int(input(\"Enter Obtained Marks of Pakistan Study:\"))"
   ]
  },
  {
   "cell_type": "code",
   "execution_count": 2,
   "metadata": {},
   "outputs": [],
   "source": [
    "total_obtained_marks=english+urdu+computer_science+chemistry+pak_studies\n",
    "total=375"
   ]
  },
  {
   "cell_type": "code",
   "execution_count": 3,
   "metadata": {},
   "outputs": [],
   "source": [
    "total_per=round(total_obtained_marks/total*100)\n"
   ]
  },
  {
   "cell_type": "code",
   "execution_count": 4,
   "metadata": {},
   "outputs": [
    {
     "name": "stdout",
     "output_type": "stream",
     "text": [
      "----------------------Marksheet Of Class 9th--------------\n",
      "Name Of The Student: BUSHRA AFSAR\n",
      "Roll No: 101512\n",
      "Obtained Marks in English 55\n",
      "Obtained Marks in Urdu: 46\n",
      "Obtained Marks in Computer Science: 34\n",
      "Obtained Marks in Chemistry 66\n",
      "Obtained Marks in Pakistan Studies: 60\n",
      "Total Marks: 375\n",
      "Total Obtained Marks: 261\n",
      "Total Percentage: 70 %\n",
      "Status:Cleared in All Five Papers\n",
      "Grade:A\n"
     ]
    }
   ],
   "source": [
    "print(\"----------------------Marksheet Of Class 9th--------------\")\n",
    "print(\"Name Of The Student:\",name)\n",
    "print(\"Roll No:\",roll_no)\n",
    "print(\"Obtained Marks in English\",english)\n",
    "print(\"Obtained Marks in Urdu:\",urdu)\n",
    "print(\"Obtained Marks in Computer Science:\",computer_science)\n",
    "print(\"Obtained Marks in Chemistry\",chemistry)\n",
    "print(\"Obtained Marks in Pakistan Studies:\",pak_studies)\n",
    "print(\"Total Marks:\",total)\n",
    "print(\"Total Obtained Marks:\",total_obtained_marks)\n",
    "print(\"Total Percentage:\",total_per,\"%\")\n",
    "if english and urdu and chemistry and computer_science and pak_studies >= 33:\n",
    "    print(\"Status:Cleared in All Five Papers\")\n",
    "    if total_per >= 80:\n",
    "        print(\"Grade:A-1\")\n",
    "    elif total_per >= 70:\n",
    "        print(\"Grade:A\")\n",
    "    elif total_per >= 60:\n",
    "        print(\"Grade:B\")\n",
    "    elif total_per >= 50:\n",
    "        print(\"Grade:C\")\n",
    "    elif total_per >= 40:\n",
    "        print(\"Grade:D\")\n",
    "    else:\n",
    "        print(\"Grade:E\")\n",
    "else:\n",
    "    print(\"Status:Failed\")\n",
    "    print(\"Grade:F\")\n",
    "\n"
   ]
  },
  {
   "cell_type": "markdown",
   "metadata": {},
   "source": [
    "***Q:2 Write a program which takes input from the user and identify that the given number is odd or even***"
   ]
  },
  {
   "cell_type": "code",
   "execution_count": 5,
   "metadata": {},
   "outputs": [
    {
     "name": "stdout",
     "output_type": "stream",
     "text": [
      "Enter a Number:6\n",
      "This is Even No.\n"
     ]
    }
   ],
   "source": [
    "no=int(input(\"Enter a Number:\"))\n",
    "if no%2==0:\n",
    "    print(\"This is Even No.\")\n",
    "else:\n",
    "    print(\"This is odd No.\")"
   ]
  },
  {
   "cell_type": "markdown",
   "metadata": {},
   "source": [
    "***Q:3 Write a Program which print the length of the list.***"
   ]
  },
  {
   "cell_type": "code",
   "execution_count": 6,
   "metadata": {},
   "outputs": [
    {
     "name": "stdout",
     "output_type": "stream",
     "text": [
      "Length of the List is: 6\n"
     ]
    }
   ],
   "source": [
    "lst=[11,2,4,21,56,7]\n",
    "print(\"Length of the List is:\",len(lst))"
   ]
  },
  {
   "cell_type": "markdown",
   "metadata": {},
   "source": [
    "***Q:4 Write a Python program to sum all the numeric items in a list.***"
   ]
  },
  {
   "cell_type": "code",
   "execution_count": 7,
   "metadata": {},
   "outputs": [
    {
     "name": "stdout",
     "output_type": "stream",
     "text": [
      "Sum of all Numeric Item in a List is: 20\n"
     ]
    }
   ],
   "source": [
    "summ=0\n",
    "lst=[2,3,4,5,6]\n",
    "for i in lst:\n",
    "    summ += i\n",
    "print(\"Sum of all Numeric Item in a List is:\",summ)    "
   ]
  },
  {
   "cell_type": "markdown",
   "metadata": {},
   "source": [
    "***Q:5 Write a Python program to get the largest no. from a numeric list.***"
   ]
  },
  {
   "cell_type": "code",
   "execution_count": 8,
   "metadata": {},
   "outputs": [],
   "source": [
    "lst=[1,2,4,7,9,6,11]\n",
    "maximum=lst[0]\n",
    "for i in lst:\n",
    "    if i > maximum:\n",
    "        maximum=i"
   ]
  },
  {
   "cell_type": "code",
   "execution_count": 9,
   "metadata": {},
   "outputs": [
    {
     "name": "stdout",
     "output_type": "stream",
     "text": [
      "largest no. is: 11\n"
     ]
    }
   ],
   "source": [
    "print(\"largest no. is:\",maximum)"
   ]
  },
  {
   "cell_type": "markdown",
   "metadata": {},
   "source": [
    "***Q:6 Write a python program that print out all the elements of list that are less than 5.***"
   ]
  },
  {
   "cell_type": "code",
   "execution_count": 10,
   "metadata": {},
   "outputs": [
    {
     "name": "stdout",
     "output_type": "stream",
     "text": [
      "1\n",
      "3\n",
      "2\n",
      "0\n"
     ]
    }
   ],
   "source": [
    "lst=[1,3,6,8,2,7,9,0]\n",
    "for i in lst:\n",
    "    if i < 5:\n",
    "        print(i)"
   ]
  },
  {
   "cell_type": "code",
   "execution_count": null,
   "metadata": {},
   "outputs": [],
   "source": []
  }
 ],
 "metadata": {
  "kernelspec": {
   "display_name": "Python 3",
   "language": "python",
   "name": "python3"
  },
  "language_info": {
   "codemirror_mode": {
    "name": "ipython",
    "version": 3
   },
   "file_extension": ".py",
   "mimetype": "text/x-python",
   "name": "python",
   "nbconvert_exporter": "python",
   "pygments_lexer": "ipython3",
   "version": "3.7.3"
  }
 },
 "nbformat": 4,
 "nbformat_minor": 2
}
